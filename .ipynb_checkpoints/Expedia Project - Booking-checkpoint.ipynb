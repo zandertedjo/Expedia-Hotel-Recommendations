{
 "cells": [
  {
   "cell_type": "markdown",
   "metadata": {},
   "source": [
    "# EE461P Term Project: Predicting Hotel Bookings on Expedia\n",
    "\n",
    "### Group Members\n",
    "1. Zander Tedjo (zbt86)\n",
    "2. Alex Li\n",
    "3. Shiv Lalapet\n",
    "4. James Lu"
   ]
  },
  {
   "cell_type": "markdown",
   "metadata": {},
   "source": [
    "## Imports"
   ]
  },
  {
   "cell_type": "code",
   "execution_count": 3,
   "metadata": {},
   "outputs": [],
   "source": [
    "import pandas as pd\n",
    "import numpy as np\n",
    "import matplotlib.pyplot as plt\n",
    "%matplotlib inline\n",
    "\n",
    "from sklearn.model_selection import train_test_split\n",
    "\n",
    "#https://www.kaggle.com/c/expedia-hotel-recommendations\n"
   ]
  },
  {
   "cell_type": "markdown",
   "metadata": {},
   "source": [
    "## Data preparation"
   ]
  },
  {
   "cell_type": "code",
   "execution_count": 2,
   "metadata": {},
   "outputs": [
    {
     "name": "stdout",
     "output_type": "stream",
     "text": [
      "             date_time  site_name  posa_continent  user_location_country  \\\n",
      "0  2014-08-11 07:46:59          2               3                     66   \n",
      "1  2014-08-11 08:22:12          2               3                     66   \n",
      "2  2014-08-11 08:24:33          2               3                     66   \n",
      "3  2014-08-09 18:05:16          2               3                     66   \n",
      "4  2014-08-09 18:08:18          2               3                     66   \n",
      "\n",
      "   user_location_region  user_location_city  orig_destination_distance  \\\n",
      "0                   348               48862                  2234.2641   \n",
      "1                   348               48862                  2234.2641   \n",
      "2                   348               48862                  2234.2641   \n",
      "3                   442               35390                   913.1932   \n",
      "4                   442               35390                   913.6259   \n",
      "\n",
      "   user_id  is_mobile  is_package  ...  srch_children_cnt srch_rm_cnt  \\\n",
      "0       12          0           1  ...                  0           1   \n",
      "1       12          0           1  ...                  0           1   \n",
      "2       12          0           0  ...                  0           1   \n",
      "3       93          0           0  ...                  0           1   \n",
      "4       93          0           0  ...                  0           1   \n",
      "\n",
      "  srch_destination_id  srch_destination_type_id  is_booking  cnt  \\\n",
      "0                8250                         1           0    3   \n",
      "1                8250                         1           1    1   \n",
      "2                8250                         1           0    1   \n",
      "3               14984                         1           0    1   \n",
      "4               14984                         1           0    1   \n",
      "\n",
      "   hotel_continent  hotel_country  hotel_market  hotel_cluster  \n",
      "0                2             50           628              1  \n",
      "1                2             50           628              1  \n",
      "2                2             50           628              1  \n",
      "3                2             50          1457             80  \n",
      "4                2             50          1457             21  \n",
      "\n",
      "[5 rows x 24 columns]\n"
     ]
    }
   ],
   "source": [
    "# Import original raw data\n",
    "df_raw = pd.read_csv('expedia.csv')\n",
    "print(df_raw.shape)\n",
    "#print(df_raw.head())\n"
   ]
  },
  {
   "cell_type": "code",
   "execution_count": 14,
   "metadata": {},
   "outputs": [
    {
     "name": "stdout",
     "output_type": "stream",
     "text": [
      "(24117894, 24)\n"
     ]
    }
   ],
   "source": [
    "# Remove rows with missing values\n",
    "df_clean = df_raw.dropna(axis=0, how='any', thresh=None, subset=None, inplace=False)\n",
    "print(df_clean.shape)"
   ]
  },
  {
   "cell_type": "code",
   "execution_count": 15,
   "metadata": {},
   "outputs": [],
   "source": [
    "#df_clean.to_csv('expedia_clean.csv', index=False)"
   ]
  },
  {
   "cell_type": "code",
   "execution_count": 53,
   "metadata": {},
   "outputs": [
    {
     "name": "stdout",
     "output_type": "stream",
     "text": [
      "(100000, 24)\n"
     ]
    }
   ],
   "source": [
    "# Resample randomly\n",
    "from sklearn.utils import resample\n",
    "\n",
    "size = 100000\n",
    "df_resampled_random = resample(df_clean, replace=False, n_samples=size, random_state=42)    \n",
    "\n",
    "print(df_resampled_random.shape)\n"
   ]
  },
  {
   "cell_type": "code",
   "execution_count": 54,
   "metadata": {},
   "outputs": [],
   "source": [
    "df_resampled_random.to_csv('expedia_resampled_random.csv', index=False)"
   ]
  },
  {
   "cell_type": "code",
   "execution_count": 56,
   "metadata": {},
   "outputs": [
    {
     "name": "stdout",
     "output_type": "stream",
     "text": [
      "(100000, 24)\n"
     ]
    }
   ],
   "source": [
    "# Resample for equal class distributions\n",
    "from sklearn.utils import resample\n",
    "\n",
    "df_resampled_equal = pd.DataFrame()\n",
    "class_size = 1000\n",
    "classes = data_clean['hotel_cluster'].unique()\n",
    "\n",
    "for c in classes:\n",
    "    class_data = df_clean[df_clean.hotel_cluster == c]\n",
    "    class_data_resampled = resample(class_data, replace=False, n_samples=class_size, random_state=42)    \n",
    "    df_resampled_equal = pd.concat([df_resampled_equal, class_data_resampled])\n",
    "\n",
    "print(df_resampled_equal.shape)"
   ]
  },
  {
   "cell_type": "code",
   "execution_count": 57,
   "metadata": {},
   "outputs": [],
   "source": [
    "df_resampled_equal.to_csv('expedia_resampled_equal.csv', index=False)"
   ]
  },
  {
   "cell_type": "markdown",
   "metadata": {},
   "source": [
    "## Data exploration"
   ]
  },
  {
   "cell_type": "code",
   "execution_count": 4,
   "metadata": {},
   "outputs": [],
   "source": [
    "# Load resampled data\n",
    "df_resampled_random = pd.read_csv('expedia_resampled_random.csv')\n",
    "df_resampled_equal = pd.read_csv('expedia_resampled_equal.csv')\n"
   ]
  },
  {
   "cell_type": "code",
   "execution_count": 18,
   "metadata": {},
   "outputs": [
    {
     "data": {
      "text/plain": [
       "Text(0.5, 0, 'Hotel cluster')"
      ]
     },
     "execution_count": 18,
     "metadata": {},
     "output_type": "execute_result"
    },
    {
     "data": {
      "image/png": "[encoded data removed]",
      "text/plain": [
       "<Figure size 432x288 with 1 Axes>"
      ]
     },
     "metadata": {
      "needs_background": "light"
     },
     "output_type": "display_data"
    }
   ],
   "source": [
    "# Plot target label distribution of random resampling\n",
    "plt.hist(df_resampled_random['hotel_cluster'], bins=25)\n",
    "plt.ylabel('Count')\n",
    "plt.xlabel('Hotel cluster')"
   ]
  },
  {
   "cell_type": "code",
   "execution_count": 10,
   "metadata": {},
   "outputs": [
    {
     "data": {
      "text/plain": [
       "Text(0.5, 0, 'Hotel cluster')"
      ]
     },
     "execution_count": 10,
     "metadata": {},
     "output_type": "execute_result"
    },
    {
     "data": {
      "image/png": "[encoded data removed]",
      "text/plain": [
       "<Figure size 432x288 with 1 Axes>"
      ]
     },
     "metadata": {
      "needs_background": "light"
     },
     "output_type": "display_data"
    }
   ],
   "source": [
    "# Plot target label distribution of equal resampling\n",
    "plt.hist(df_resampled_equal['hotel_cluster'], bins=25)\n",
    "plt.ylabel('Count')\n",
    "plt.xlabel('Hotel cluster')"
   ]
  },
  {
   "cell_type": "code",
   "execution_count": 5,
   "metadata": {},
   "outputs": [
    {
     "name": "stdout",
     "output_type": "stream",
     "text": [
      "(100000, 19)\n",
      "Index(['posa_continent', 'user_location_country', 'user_location_region',\n",
      "       'user_location_city', 'orig_destination_distance', 'is_mobile',\n",
      "       'is_package', 'channel', 'srch_adults_cnt', 'srch_children_cnt',\n",
      "       'srch_rm_cnt', 'srch_destination_id', 'srch_destination_type_id',\n",
      "       'is_booking', 'cnt', 'hotel_continent', 'hotel_country', 'hotel_market',\n",
      "       'hotel_cluster'],\n",
      "      dtype='object')\n",
      "   posa_continent  user_location_country  user_location_region  \\\n",
      "0               3                     66                   363   \n",
      "1               3                     66                   348   \n",
      "2               3                    205                   385   \n",
      "3               3                     66                   442   \n",
      "4               3                    205                   155   \n",
      "\n",
      "   user_location_city  orig_destination_distance  is_mobile  is_package  \\\n",
      "0               22020                  1474.0305          0           1   \n",
      "1               48862                  1545.1090          0           1   \n",
      "2               46963                  1838.5742          0           1   \n",
      "3                  76                  1032.1829          0           1   \n",
      "4               14703                  2784.4692          0           0   \n",
      "\n",
      "   channel  srch_adults_cnt  srch_children_cnt  srch_rm_cnt  \\\n",
      "0        9                2                  0            1   \n",
      "1        9                2                  0            1   \n",
      "2        9                2                  0            2   \n",
      "3        1                2                  0            1   \n",
      "4        3                2                  0            1   \n",
      "\n",
      "   srch_destination_id  srch_destination_type_id  is_booking  cnt  \\\n",
      "0                 8791                         1           0    1   \n",
      "1                 8791                         1           0    1   \n",
      "2                 8791                         1           0    1   \n",
      "3                57146                         4           0    2   \n",
      "4                 8791                         1           0    1   \n",
      "\n",
      "   hotel_continent  hotel_country  hotel_market  hotel_cluster  \n",
      "0                4              8           110             66  \n",
      "1                4              8           110             66  \n",
      "2                4              8           110             66  \n",
      "3                4              8           126             66  \n",
      "4                4              8           110             66  \n"
     ]
    }
   ],
   "source": [
    "# Drop unnecessary features\n",
    "\n",
    "#df_dropped = df_resampled_random.copy()\n",
    "df_dropped = df_resampled_equal.copy()\n",
    "\n",
    "df_dropped = df_dropped.drop(['date_time'], axis=1)\n",
    "df_dropped = df_dropped.drop(['user_id'], axis=1)\n",
    "df_dropped = df_dropped.drop(['srch_ci'], axis=1)\n",
    "df_dropped = df_dropped.drop(['srch_co'], axis=1)\n",
    "df_dropped = df_dropped.drop(['site_name'], axis=1)\n",
    "\n",
    "print(df_dropped.shape)\n",
    "print(df_dropped.columns)\n",
    "print(df_dropped.head())"
   ]
  },
  {
   "cell_type": "code",
   "execution_count": 12,
   "metadata": {},
   "outputs": [
    {
     "data": {
      "image/png": "[encoded data removed]",
      "text/plain": [
       "<Figure size 432x288 with 2 Axes>"
      ]
     },
     "metadata": {
      "needs_background": "light"
     },
     "output_type": "display_data"
    }
   ],
   "source": [
    "# Correlation heatmap\n",
    "import seaborn as sns\n",
    "\n",
    "corr = df_dropped.corr()\n",
    "ax = sns.heatmap(corr)"
   ]
  },
  {
   "cell_type": "code",
   "execution_count": 19,
   "metadata": {},
   "outputs": [
    {
     "data": {
      "text/plain": [
       "Text(0.5, 0, 'user_location_country')"
      ]
     },
     "execution_count": 19,
     "metadata": {},
     "output_type": "execute_result"
    },
    {
     "data": {
      "image/png": "[encoded data removed]",
      "text/plain": [
       "<Figure size 432x288 with 1 Axes>"
      ]
     },
     "metadata": {
      "needs_background": "light"
     },
     "output_type": "display_data"
    }
   ],
   "source": [
    "# Plot distribution of a feature\n",
    "feature = 'srch_rm_cnt'\n",
    "feature = 'posa_continent'\n",
    "feature = 'user_location_country'\n",
    "\n",
    "\n",
    "plt.hist(df_dropped[feature], bins=25)\n",
    "plt.ylabel('Count')\n",
    "plt.xlabel(feature)"
   ]
  },
  {
   "cell_type": "markdown",
   "metadata": {},
   "source": [
    "## Preprocessing"
   ]
  },
  {
   "cell_type": "code",
   "execution_count": 6,
   "metadata": {},
   "outputs": [
    {
     "name": "stdout",
     "output_type": "stream",
     "text": [
      "(100000, 19)\n"
     ]
    }
   ],
   "source": [
    "# Get dummies for categorical features\n",
    "data = pd.get_dummies(df_dropped)\n",
    "print(data.shape)"
   ]
  },
  {
   "cell_type": "code",
   "execution_count": 7,
   "metadata": {},
   "outputs": [],
   "source": [
    "X = data.drop(['is_booking'], axis=1)\n",
    "Y = data['is_booking']"
   ]
  },
  {
   "cell_type": "code",
   "execution_count": 48,
   "metadata": {},
   "outputs": [
    {
     "name": "stdout",
     "output_type": "stream",
     "text": [
      "(100000, 8)\n",
      "Index(['user_location_country', 'user_location_region', 'user_location_city',\n",
      "       'orig_destination_distance', 'srch_destination_id', 'hotel_continent',\n",
      "       'hotel_country', 'hotel_market'],\n",
      "      dtype='object')\n"
     ]
    }
   ],
   "source": [
    "# Select top K features\n",
    "from sklearn.feature_selection import SelectKBest\n",
    "from sklearn.feature_selection import chi2\n",
    "\n",
    "n = 8\n",
    "selector = SelectKBest(chi2, k=n)\n",
    "X_new = selector.fit_transform(X, Y)\n",
    "\n",
    "print(X_new.shape)\n",
    "#print(X_new.columns)\n",
    "\n",
    "mask = selector.get_support()\n",
    "new_features = X.columns[mask]\n",
    "print(new_features)"
   ]
  },
  {
   "cell_type": "code",
   "execution_count": 8,
   "metadata": {},
   "outputs": [
    {
     "name": "stdout",
     "output_type": "stream",
     "text": [
      "(75000, 18)\n"
     ]
    }
   ],
   "source": [
    "# Normal data\n",
    "X_train, X_test, y_train, y_test = train_test_split(X, Y, test_size=0.25, random_state=42)\n",
    "\n",
    "# Feature selection data\n",
    "#X_train, X_test, y_train, y_test = train_test_split(X_new, Y, test_size=0.25, random_state=42)\n",
    "\n",
    "print(X_train.shape)"
   ]
  },
  {
   "cell_type": "markdown",
   "metadata": {},
   "source": [
    "## Models"
   ]
  },
  {
   "cell_type": "code",
   "execution_count": 14,
   "metadata": {},
   "outputs": [],
   "source": [
    "from sklearn.preprocessing import LabelBinarizer\n",
    "from sklearn.metrics import roc_auc_score, accuracy_score, f1_score, roc_curve, log_loss, average_precision_score\n",
    "\n",
    "def multiclass_roc_auc_score(y_test, y_pred):\n",
    "    lb = LabelBinarizer()\n",
    "    lb.fit(y_test)\n",
    "    y_test = lb.transform(y_test)\n",
    "    y_pred = lb.transform(y_pred)\n",
    "    return roc_auc_score(y_test, y_pred)\n",
    "\n",
    "def evaluate(y_test, y_test_pred, y_test_pred_proba):\n",
    "    accuracy = accuracy_score(y_test, y_test_pred)\n",
    "    print('Accuracy', accuracy)\n",
    "\n",
    "    #auc = roc_auc_score(y_test, y_test_pred, multi_class='ovr')\n",
    "    #auc = multiclass_roc_auc_score(y_test, y_test_pred)\n",
    "    \n",
    "    #binary auc\n",
    "    auc = roc_auc_score(y_test, y_test_pred_proba[:,1])\n",
    "\n",
    "    print('AUC', auc)\n",
    "\n",
    "    cross_entropy = log_loss(y_test, y_test_pred_proba)\n",
    "    print('Cross entropy', cross_entropy)"
   ]
  },
  {
   "cell_type": "code",
   "execution_count": 25,
   "metadata": {},
   "outputs": [
    {
     "name": "stdout",
     "output_type": "stream",
     "text": [
      "Accuracy 0.92168\n",
      "AUC 0.5295173560134759\n",
      "Cross entropy 0.2869543949455772\n"
     ]
    },
    {
     "name": "stderr",
     "output_type": "stream",
     "text": [
      "C:\\Users\\zande\\Anaconda3\\lib\\site-packages\\sklearn\\linear_model\\sag.py:337: ConvergenceWarning: The max_iter was reached which means the coef_ did not converge\n",
      "  \"the coef_ did not converge\", ConvergenceWarning)\n"
     ]
    }
   ],
   "source": [
    "# Logistic regression\n",
    "from sklearn.linear_model import LogisticRegression\n",
    "\n",
    "reg = LogisticRegression(multi_class='multinomial', solver='saga')\n",
    "reg.fit(X_train, y_train)\n",
    "\n",
    "y_test_pred = reg.predict(X_test)\n",
    "y_test_pred_proba = reg.predict_proba(X_test)\n",
    "\n",
    "evaluate(y_test, y_test_pred, y_test_pred_proba)\n"
   ]
  },
  {
   "cell_type": "code",
   "execution_count": 10,
   "metadata": {},
   "outputs": [
    {
     "name": "stdout",
     "output_type": "stream",
     "text": [
      "Accuracy 0.92092\n",
      "AUC 0.7328033415730869\n",
      "Cross entropy 0.2501077198259671\n"
     ]
    }
   ],
   "source": [
    "# Xgboost\n",
    "import xgboost as xgb\n",
    "\n",
    "clf = xgb.XGBClassifier()\n",
    "clf.fit(X_train, y_train)\n",
    "\n",
    "y_test_pred = clf.predict(X_test)\n",
    "y_test_pred_proba = clf.predict_proba(X_test)\n",
    "\n",
    "evaluate(y_test, y_test_pred, y_test_pred_proba)\n"
   ]
  },
  {
   "cell_type": "code",
   "execution_count": 12,
   "metadata": {},
   "outputs": [
    {
     "name": "stdout",
     "output_type": "stream",
     "text": [
      "(75000, 18)\n",
      "Index(['posa_continent', 'user_location_country', 'user_location_region',\n",
      "       'user_location_city', 'orig_destination_distance', 'is_mobile',\n",
      "       'is_package', 'channel', 'srch_adults_cnt', 'srch_children_cnt',\n",
      "       'srch_rm_cnt', 'srch_destination_id', 'srch_destination_type_id', 'cnt',\n",
      "       'hotel_continent', 'hotel_country', 'hotel_market', 'hotel_cluster'],\n",
      "      dtype='object')\n"
     ]
    }
   ],
   "source": [
    "# See categorical features\n",
    "print(X_train.shape)\n",
    "print(X_train.columns)"
   ]
  },
  {
   "cell_type": "code",
   "execution_count": 15,
   "metadata": {},
   "outputs": [
    {
     "name": "stdout",
     "output_type": "stream",
     "text": [
      "Learning rate set to 0.5\n",
      "0:\tlearn: 0.4211866\ttotal: 173ms\tremaining: 1.55s\n",
      "2:\tlearn: 0.2840529\ttotal: 596ms\tremaining: 1.39s\n",
      "4:\tlearn: 0.2527799\ttotal: 1.01s\tremaining: 1.01s\n",
      "6:\tlearn: 0.2432584\ttotal: 1.43s\tremaining: 614ms\n",
      "8:\tlearn: 0.2407732\ttotal: 1.86s\tremaining: 206ms\n",
      "9:\tlearn: 0.2398778\ttotal: 2.09s\tremaining: 0us\n",
      "Accuracy 0.92168\n",
      "AUC 0.7537949087774077\n",
      "Cross entropy 0.2444464996740972\n"
     ]
    }
   ],
   "source": [
    "# Catboost\n",
    "from catboost import Pool, CatBoostClassifier\n",
    "\n",
    "# Indices of categorical features\n",
    "cat_features = [0,1,2,3,5,6,7,11,12,14,15,16,17]\n",
    "\n",
    "\n",
    "train_dataset = Pool(data=X_train,\n",
    "                     label=y_train,\n",
    "                     cat_features=cat_features)\n",
    "\n",
    "test_dataset = Pool(data=X_test,\n",
    "                    label=y_test,\n",
    "                    cat_features=cat_features)\n",
    "\n",
    "\n",
    "# Initialize CatBoostClassifier\n",
    "model = CatBoostClassifier(classes_count=2, loss_function=\"MultiClass\", n_estimators=10, verbose=2)\n",
    "\n",
    "# Fit model\n",
    "model.fit(train_dataset)\n",
    "y_test_pred = model.predict(test_dataset)\n",
    "y_test_pred_proba = model.predict_proba(test_dataset)\n",
    "\n",
    "evaluate(y_test, y_test_pred, y_test_pred_proba)\n"
   ]
  },
  {
   "cell_type": "markdown",
   "metadata": {},
   "source": [
    "### Performance Notes\n",
    "1. Larger data size is better, 100k better than 10k\n",
    "\n",
    "Logistic\n",
    "Accuracy 0.92168\n",
    "AUC 0.5295173560134759\n",
    "Cross entropy 0.2869543949455772\n",
    "\n",
    "Xgboost\n",
    "Accuracy 0.92092\n",
    "AUC 0.7328033415730869\n",
    "Cross entropy 0.2501077198259671\n",
    "\n",
    "Catboost\n",
    "Accuracy 0.92168\n",
    "AUC 0.7537949087774077\n",
    "Cross entropy 0.2444464996740972"
   ]
  }
 ],
 "metadata": {
  "kernelspec": {
   "display_name": "Python 3",
   "language": "python",
   "name": "python3"
  },
  "language_info": {
   "codemirror_mode": {
    "name": "ipython",
    "version": 3
   },
   "file_extension": ".py",
   "mimetype": "text/x-python",
   "name": "python",
   "nbconvert_exporter": "python",
   "pygments_lexer": "ipython3",
   "version": "3.7.1"
  }
 },
 "nbformat": 4,
 "nbformat_minor": 2
}
